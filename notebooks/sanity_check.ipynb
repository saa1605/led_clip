{
 "cells": [
  {
   "cell_type": "code",
   "execution_count": 1,
   "metadata": {},
   "outputs": [],
   "source": [
    "import torch \n",
    "from PIL import Image"
   ]
  },
  {
   "cell_type": "code",
   "execution_count": null,
   "metadata": {},
   "outputs": [],
   "source": [
    "img = Image.open('../data/floorplans/5q7pvUzZiYa')"
   ]
  }
 ],
 "metadata": {
  "interpreter": {
   "hash": "cd46acfb4a95448d935c417fab42f176f820b969729b5c737279b5be8c31c56c"
  },
  "kernelspec": {
   "display_name": "Python 3.9.9 ('graphled')",
   "language": "python",
   "name": "python3"
  },
  "language_info": {
   "name": "python",
   "version": "3.9.9"
  },
  "orig_nbformat": 4
 },
 "nbformat": 4,
 "nbformat_minor": 2
}
