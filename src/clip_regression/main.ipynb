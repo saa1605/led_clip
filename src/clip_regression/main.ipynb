{
 "cells": [
  {
   "cell_type": "code",
   "execution_count": 1,
   "metadata": {},
   "outputs": [
    {
     "name": "stderr",
     "output_type": "stream",
     "text": [
      "/opt/homebrew/Caskroom/miniforge/base/envs/graphled/lib/python3.9/site-packages/torchvision/io/image.py:11: UserWarning: Failed to load image Python extension: \n",
      "  warn(f\"Failed to load image Python extension: {e}\")\n"
     ]
    }
   ],
   "source": [
    "import torch \n",
    "import torch.nn as nn \n",
    "import torch.nn.functional as F \n",
    "import json \n",
    "from torch.utils.data import Dataset, DataLoader\n",
    "from PIL import Image \n",
    "import clip \n",
    "from torchvision import transforms\n",
    "from tqdm import tqdm\n",
    "import cv2\n",
    "import matplotlib\n",
    "import numpy as np\n",
    "import matplotlib.pyplot as plt\n",
    "import sys \n",
    "sys.path.append('../..')\n",
    "import src.utils as utils\n",
    "%matplotlib inline "
   ]
  },
  {
   "cell_type": "code",
   "execution_count": 2,
   "metadata": {},
   "outputs": [],
   "source": [
    "config = {\n",
    "    # Data Paths\n",
    "    'train_path' : '../../data/way_splits/train_data.json',\n",
    "    'valid_seen_path' : '../../data/way_splits/valSeen_data.json',\n",
    "    'valid_unseen_path': '../../data/way_splits/valUnseen_data.json',\n",
    "    'mesh2meters': '../../data/floorplans/pix2meshDistance.json',\n",
    "    'image_dir': '../../data/floorplans/',\n",
    "\n",
    "    'device': 'cpu',\n",
    "\n",
    "    # Hyper Parameters\n",
    "    'max_floors': 5,\n",
    "\n",
    "    # Image Parameters \n",
    "    'image_size': [3, 224, 224],\n",
    "    # 'image_size': [3, 700, 1200],\n",
    "    'original_image_size': [3, 700, 1200],\n",
    "    \n",
    "}"
   ]
  },
  {
   "cell_type": "code",
   "execution_count": 7,
   "metadata": {},
   "outputs": [],
   "source": [
    "# Create Dataset \n",
    "\n",
    "class LEDDataset(Dataset):\n",
    "    def __init__(self, data_path, image_dir, config):\n",
    "\n",
    "        # Gather train_data from {train/val/test}_data.json\n",
    "        self.data_path = data_path \n",
    "        self.data_file = open(self.data_path)\n",
    "        self.data = json.load(self.data_file)\n",
    "\n",
    "        # Extract the mode (train, valSeen, valUnseen) from the data_path \n",
    "        self.mode = self.data_path.split('/')[-1][:-5].split('_')[0]\n",
    "\n",
    "        # Store access to floorplans directory \n",
    "        self.image_dir = image_dir \n",
    "\n",
    "        # Save the global config \n",
    "        self.config = config \n",
    "\n",
    "        # mesh2meters\n",
    "        self.mesh2meters_path = self.config['mesh2meters']\n",
    "        self.mesh2meters_file = open(self.mesh2meters_path)\n",
    "        self.mesh2meters = json.load(self.mesh2meters_file)\n",
    "\n",
    "        # transform required for CLIP \n",
    "        def convert_image_to_rgb(image):\n",
    "            return image.convert(\"RGB\")\n",
    "\n",
    "        self.preprocess = transforms.Compose([\n",
    "            # transforms.Resize(size=(224, 224), interpolation=transforms.InterpolationMode.BICUBIC, max_size=None, antialias=None),\n",
    "            # transforms.CenterCrop(size=(224, 244)),\n",
    "            convert_image_to_rgb,\n",
    "            transforms.ToTensor(),\n",
    "            transforms.Normalize(mean=(0.48145466, 0.4578275, 0.40821073), std=(0.26862954, 0.26130258, 0.27577711))\n",
    "        ])\n",
    "        self.preprocess_visualize = transforms.Compose([\n",
    "            transforms.Resize(size=(224, 224), interpolation=transforms.InterpolationMode.BICUBIC, max_size=None, antialias=None),\n",
    "            # transforms.CenterCrop(size=(224, 244)),\n",
    "            convert_image_to_rgb,\n",
    "            transforms.ToTensor(),\n",
    "        ]\n",
    "        )\n",
    "\n",
    "\n",
    "    def gather_all_floors(self, index):\n",
    "        all_maps = torch.zeros(\n",
    "            self.config['max_floors'],\n",
    "            self.config[\"image_size\"][0],\n",
    "            self.config[\"image_size\"][1],\n",
    "            self.config[\"image_size\"][2],\n",
    "        )\n",
    "        all_conversions = torch.zeros(self.config[\"max_floors\"], 1)\n",
    "        scan_name = self.data[index]['scanName']\n",
    "        floors = self.mesh2meters[scan_name].keys()\n",
    "        for enum, floor in enumerate(floors):\n",
    "            img = Image.open(f'{self.image_dir}floor_{floor}/{scan_name}_{floor}.png').convert('RGB')\n",
    "            if \"train\" in self.mode:\n",
    "                temp = self.preprocess(img)\n",
    "                all_maps[enum, :, :, :] = self.preprocess(img)[:3, :, :]\n",
    "            else:\n",
    "                all_maps[enum, :, :, :] = self.preprocess(img)[:3, :, :]\n",
    "            all_conversions[enum, :] = self.mesh2meters[scan_name][floor][\"threeMeterRadius\"] / 3.0\n",
    "        return all_maps, all_conversions\n",
    "\n",
    "    def gather_correct_floor(self, index):\n",
    "        scan_name = self.data[index]['scanName']\n",
    "        x, y, floor = self.scale_location(index)\n",
    "        img = Image.open(f'{self.image_dir}floor_{floor}/{scan_name}_{floor}.png').convert('RGB')\n",
    "        \n",
    "        map = self.preprocess(img)\n",
    "        conversion = torch.tensor(self.mesh2meters[scan_name][str(floor)][\"threeMeterRadius\"] / 3.0).float()\n",
    "\n",
    "        return map, conversion\n",
    "\n",
    "    def scale_location(self, index):\n",
    "        if \"test\" in self.mode:\n",
    "            return [0, 0, 0]\n",
    "\n",
    "        floor = self.data[index]['finalLocation'][\"floor\"]\n",
    "        x, y = self.data[index]['finalLocation'][\"pixel_coord\"]    \n",
    "\n",
    "        return [int(x * (self.config['image_size'][2]/self.config['original_image_size'][2])), int(x * (self.config['image_size'][1]/self.config['original_image_size'][1])), floor] \n",
    "        \n",
    "    def join_dialog(self, index):\n",
    "        dialogArray = self.data[index]['dialogArray']\n",
    "        return \" \".join(dialogArray)\n",
    "\n",
    "    def visualize_data(self, index):\n",
    "        all_maps = np.zeros((\n",
    "            self.config['max_floors'],\n",
    "            self.config[\"image_size\"][1],\n",
    "            self.config[\"image_size\"][2],\n",
    "            self.config[\"image_size\"][0],\n",
    "        )\n",
    "        )\n",
    "        scan_name = self.data[index]['scanName']\n",
    "        floors = self.mesh2meters[scan_name].keys()\n",
    "        images = []\n",
    "        for enum, floor in enumerate(floors):\n",
    "            img = Image.open(f'{self.image_dir}floor_{floor}/{scan_name}_{floor}.png').convert('RGB')\n",
    "            all_maps[enum] = torch.permute(self.preprocess_visualize(img)[:3, :, :], (1, 2, 0)).cpu().numpy()\n",
    "\n",
    "        # create figure\n",
    "        fig = plt.figure(figsize=(20, 15))\n",
    "        \n",
    "        # setting values to rows and column variables\n",
    "        rows = 3\n",
    "        columns = 2\n",
    "        # Adds a subplot at the 1st position\n",
    "        fig.add_subplot(rows, columns, 1)\n",
    "        \n",
    "        # showing image\n",
    "        plt.imshow(all_maps[0])\n",
    "        plt.Circle((100, 100), 50, color='k')\n",
    "        plt.axis('off')\n",
    "        plt.title(\"First\")\n",
    "        \n",
    "        # Adds a subplot at the 2nd position\n",
    "        fig.add_subplot(rows, columns, 2)\n",
    "        \n",
    "        # showing image\n",
    "        plt.imshow(all_maps[1])\n",
    "        plt.axis('off')\n",
    "        plt.title(\"Second\")\n",
    "        \n",
    "        # Adds a subplot at the 3rd position\n",
    "        fig.add_subplot(rows, columns, 3)\n",
    "        \n",
    "        # showing image\n",
    "        plt.imshow(all_maps[2])\n",
    "        plt.axis('off')\n",
    "        plt.title(\"Third\")\n",
    "        \n",
    "        # Adds a subplot at the 4th position\n",
    "        fig.add_subplot(rows, columns, 4)\n",
    "        \n",
    "        # showing image\n",
    "        plt.imshow(all_maps[3])\n",
    "        plt.axis('off')\n",
    "        plt.title(\"Fourth\")\n",
    "\n",
    "        # Adds a subplot at the 4th position\n",
    "        fig.add_subplot(rows, columns, 5)\n",
    "        \n",
    "        # showing image\n",
    "        plt.imshow(all_maps[4])\n",
    "        plt.axis('off')\n",
    "        plt.title(\"Fourth\")\n",
    "\n",
    "    def visualize_target(self, index):\n",
    "        all_maps = np.zeros((\n",
    "            self.config['max_floors'],\n",
    "            self.config[\"image_size\"][1],\n",
    "            self.config[\"image_size\"][2],\n",
    "            self.config[\"image_size\"][0],\n",
    "        )\n",
    "        )\n",
    "        scan_name = self.data[index]['scanName']\n",
    "        floors = self.mesh2meters[scan_name].keys()\n",
    "        images = []\n",
    "        for enum, floor in enumerate(floors):\n",
    "            img = Image.open(f'{self.image_dir}floor_{floor}/{scan_name}_{floor}.png').convert('RGB')\n",
    "            all_maps[enum] = torch.permute(self.preprocess_visualize(img), (1, 2, 0)).cpu().numpy()\n",
    "        \n",
    "        x, y, floor = self.scale_location(index)\n",
    "        tensor  = all_maps[floor]       \n",
    "        fig,ax = plt.subplots(1)\n",
    "        ax.set_aspect('equal')\n",
    "\n",
    "        # Show the image\n",
    "        ax.imshow(tensor)\n",
    "        \n",
    "        circ = plt.Circle((x,y),10, color='red')\n",
    "        ax.add_patch(circ)\n",
    "        print(self.join_dialog(index))\n",
    "        # Show the image\n",
    "        plt.show()\n",
    "\n",
    "\n",
    "    def __len__(self):\n",
    "        return len(self.data)\n",
    "    \n",
    "    def __getitem__(self, index):\n",
    "        target_x, target_y, target_floor = self.scale_location(index)\n",
    "        maps, conversions = self.gather_correct_floor(index)\n",
    "        dialog = clip.tokenize(self.join_dialog(index), truncate=True)\n",
    "\n",
    "        return {\n",
    "            'target_x': target_x,\n",
    "            'target_y': target_y,\n",
    "            'targets': torch.tensor([target_x, target_y]).float(),\n",
    "            'target_floors': torch.tensor(int(target_floor)).float(),\n",
    "            'maps': maps,\n",
    "            'conversions': conversions,\n",
    "            'dialogs': dialog\n",
    "        }\n",
    "             "
   ]
  },
  {
   "cell_type": "code",
   "execution_count": 8,
   "metadata": {},
   "outputs": [],
   "source": [
    "train_dataset = LEDDataset(config['train_path'], config['image_dir'], config)\n",
    "valid_seen_dataset = LEDDataset(config['valid_seen_path'], config['image_dir'], config)\n",
    "valid_unseen_dataset = LEDDataset(config['valid_unseen_path'], config['image_dir'], config)"
   ]
  },
  {
   "cell_type": "code",
   "execution_count": 10,
   "metadata": {},
   "outputs": [
    {
     "name": "stdout",
     "output_type": "stream",
     "text": [
      "What do you see? Where are you? I am on a landing of a staircase. In the room is a pool table and fireplace with a high back pink chair near the fireplace. What shape is the pool? It's a pool table. Under the pool table is a floral/patterned rug. There is also a white couch on the other side of the room under a window. Is it a round table that is placed on the rug? No. It's a billiard/pool table on the rug. There is a large plant next to the door. I'm on the landing of the staircase.\n"
     ]
    },
    {
     "data": {
      "image/png": "[encoded data removed]",
      "text/plain": [
       "<Figure size 432x288 with 1 Axes>"
      ]
     },
     "metadata": {
      "needs_background": "light"
     },
     "output_type": "display_data"
    }
   ],
   "source": [
    "train_dataset.visualize_target(2)"
   ]
  },
  {
   "cell_type": "code",
   "execution_count": 8,
   "metadata": {},
   "outputs": [
    {
     "name": "stdout",
     "output_type": "stream",
     "text": [
      "torch.Size([16, 3, 700, 1200])\n"
     ]
    }
   ],
   "source": [
    "train_loader = DataLoader(train_dataset, batch_size=16)\n",
    "\n",
    "for d in train_loader:\n",
    "    print(d['maps'].size())\n",
    "    break"
   ]
  },
  {
   "cell_type": "code",
   "execution_count": 16,
   "metadata": {},
   "outputs": [],
   "source": [
    "class CLIPLocator(nn.Module):\n",
    "    def __init__(self, config):\n",
    "        super(CLIPLocator, self).__init__()\n",
    "        self.CLIP, _ = clip.load(\"RN50\")\n",
    "        self.config = config\n",
    "\n",
    "        self.dropout = nn.Dropout(0.4)\n",
    "        self.linear1 = nn.Linear(2048, 1024)\n",
    "        self.regressionLinear = nn.Linear(1024, 2)\n",
    "        # self.floorClassificationLinear = nn.Linear(1024, 5)\n",
    "\n",
    "    def forward(self, map, dialog):\n",
    "        image_enc = self.CLIP.encode_image(map)\n",
    "        text_enc = self.CLIP.encode_text(dialog)\n",
    "        enc = torch.cat((image_enc, text_enc), dim=-1)\n",
    "        dropoutOut = self.dropout(enc)\n",
    "        linear1Out = F.relu(self.linear1(dropoutOut))\n",
    "        regressionOut = self.regressionLinear(linear1Out)\n",
    "        # floorclassificationOut = self.floorClassificationLinear(linear1Out)\n",
    "\n",
    "        return regressionOut # , floorclassificationOut "
   ]
  },
  {
   "cell_type": "code",
   "execution_count": 17,
   "metadata": {},
   "outputs": [],
   "source": [
    "cli = CLIPLocator(config)"
   ]
  },
  {
   "cell_type": "code",
   "execution_count": 19,
   "metadata": {},
   "outputs": [],
   "source": [
    "train_loader = DataLoader(train_dataset, batch_size=6)"
   ]
  },
  {
   "cell_type": "code",
   "execution_count": 20,
   "metadata": {},
   "outputs": [
    {
     "ename": "RuntimeError",
     "evalue": "The size of tensor a (778) must match the size of tensor b (50) at non-singleton dimension 0",
     "output_type": "error",
     "traceback": [
      "\u001b[0;31m---------------------------------------------------------------------------\u001b[0m",
      "\u001b[0;31mRuntimeError\u001b[0m                              Traceback (most recent call last)",
      "\u001b[1;32m/Users/saaket/Documents/led_clip/src/clip_regression/main.ipynb Cell 9'\u001b[0m in \u001b[0;36m<module>\u001b[0;34m\u001b[0m\n\u001b[1;32m      <a href='vscode-notebook-cell:/Users/saaket/Documents/led_clip/src/clip_regression/main.ipynb#ch0000011?line=0'>1</a>\u001b[0m \u001b[39mfor\u001b[39;00m d \u001b[39min\u001b[39;00m train_loader:\n\u001b[0;32m----> <a href='vscode-notebook-cell:/Users/saaket/Documents/led_clip/src/clip_regression/main.ipynb#ch0000011?line=1'>2</a>\u001b[0m     out \u001b[39m=\u001b[39m cli(d[\u001b[39m'\u001b[39;49m\u001b[39mmaps\u001b[39;49m\u001b[39m'\u001b[39;49m], d[\u001b[39m'\u001b[39;49m\u001b[39mdialogs\u001b[39;49m\u001b[39m'\u001b[39;49m])\n\u001b[1;32m      <a href='vscode-notebook-cell:/Users/saaket/Documents/led_clip/src/clip_regression/main.ipynb#ch0000011?line=2'>3</a>\u001b[0m     \u001b[39mbreak\u001b[39;00m\n",
      "File \u001b[0;32m/opt/homebrew/Caskroom/miniforge/base/envs/graphled/lib/python3.9/site-packages/torch/nn/modules/module.py:1102\u001b[0m, in \u001b[0;36mModule._call_impl\u001b[0;34m(self, *input, **kwargs)\u001b[0m\n\u001b[1;32m   <a href='file:///opt/homebrew/Caskroom/miniforge/base/envs/graphled/lib/python3.9/site-packages/torch/nn/modules/module.py?line=1097'>1098</a>\u001b[0m \u001b[39m# If we don't have any hooks, we want to skip the rest of the logic in\u001b[39;00m\n\u001b[1;32m   <a href='file:///opt/homebrew/Caskroom/miniforge/base/envs/graphled/lib/python3.9/site-packages/torch/nn/modules/module.py?line=1098'>1099</a>\u001b[0m \u001b[39m# this function, and just call forward.\u001b[39;00m\n\u001b[1;32m   <a href='file:///opt/homebrew/Caskroom/miniforge/base/envs/graphled/lib/python3.9/site-packages/torch/nn/modules/module.py?line=1099'>1100</a>\u001b[0m \u001b[39mif\u001b[39;00m \u001b[39mnot\u001b[39;00m (\u001b[39mself\u001b[39m\u001b[39m.\u001b[39m_backward_hooks \u001b[39mor\u001b[39;00m \u001b[39mself\u001b[39m\u001b[39m.\u001b[39m_forward_hooks \u001b[39mor\u001b[39;00m \u001b[39mself\u001b[39m\u001b[39m.\u001b[39m_forward_pre_hooks \u001b[39mor\u001b[39;00m _global_backward_hooks\n\u001b[1;32m   <a href='file:///opt/homebrew/Caskroom/miniforge/base/envs/graphled/lib/python3.9/site-packages/torch/nn/modules/module.py?line=1100'>1101</a>\u001b[0m         \u001b[39mor\u001b[39;00m _global_forward_hooks \u001b[39mor\u001b[39;00m _global_forward_pre_hooks):\n\u001b[0;32m-> <a href='file:///opt/homebrew/Caskroom/miniforge/base/envs/graphled/lib/python3.9/site-packages/torch/nn/modules/module.py?line=1101'>1102</a>\u001b[0m     \u001b[39mreturn\u001b[39;00m forward_call(\u001b[39m*\u001b[39;49m\u001b[39minput\u001b[39;49m, \u001b[39m*\u001b[39;49m\u001b[39m*\u001b[39;49mkwargs)\n\u001b[1;32m   <a href='file:///opt/homebrew/Caskroom/miniforge/base/envs/graphled/lib/python3.9/site-packages/torch/nn/modules/module.py?line=1102'>1103</a>\u001b[0m \u001b[39m# Do not call functions when jit is used\u001b[39;00m\n\u001b[1;32m   <a href='file:///opt/homebrew/Caskroom/miniforge/base/envs/graphled/lib/python3.9/site-packages/torch/nn/modules/module.py?line=1103'>1104</a>\u001b[0m full_backward_hooks, non_full_backward_hooks \u001b[39m=\u001b[39m [], []\n",
      "\u001b[1;32m/Users/saaket/Documents/led_clip/src/clip_regression/main.ipynb Cell 6'\u001b[0m in \u001b[0;36mCLIPLocator.forward\u001b[0;34m(self, map, dialog)\u001b[0m\n\u001b[1;32m     <a href='vscode-notebook-cell:/Users/saaket/Documents/led_clip/src/clip_regression/main.ipynb#ch0000005?line=11'>12</a>\u001b[0m \u001b[39mdef\u001b[39;00m \u001b[39mforward\u001b[39m(\u001b[39mself\u001b[39m, \u001b[39mmap\u001b[39m, dialog):\n\u001b[0;32m---> <a href='vscode-notebook-cell:/Users/saaket/Documents/led_clip/src/clip_regression/main.ipynb#ch0000005?line=12'>13</a>\u001b[0m     image_enc \u001b[39m=\u001b[39m \u001b[39mself\u001b[39;49m\u001b[39m.\u001b[39;49mCLIP\u001b[39m.\u001b[39;49mencode_image(\u001b[39mmap\u001b[39;49m)\n\u001b[1;32m     <a href='vscode-notebook-cell:/Users/saaket/Documents/led_clip/src/clip_regression/main.ipynb#ch0000005?line=13'>14</a>\u001b[0m     text_enc \u001b[39m=\u001b[39m \u001b[39mself\u001b[39m\u001b[39m.\u001b[39mCLIP\u001b[39m.\u001b[39mencode_text(dialog)\n\u001b[1;32m     <a href='vscode-notebook-cell:/Users/saaket/Documents/led_clip/src/clip_regression/main.ipynb#ch0000005?line=14'>15</a>\u001b[0m     enc \u001b[39m=\u001b[39m torch\u001b[39m.\u001b[39mcat((image_enc, text_enc), dim\u001b[39m=\u001b[39m\u001b[39m-\u001b[39m\u001b[39m1\u001b[39m)\n",
      "File \u001b[0;32m/opt/homebrew/Caskroom/miniforge/base/envs/graphled/lib/python3.9/site-packages/clip/model.py:337\u001b[0m, in \u001b[0;36mCLIP.encode_image\u001b[0;34m(self, image)\u001b[0m\n\u001b[1;32m    <a href='file:///opt/homebrew/Caskroom/miniforge/base/envs/graphled/lib/python3.9/site-packages/clip/model.py?line=335'>336</a>\u001b[0m \u001b[39mdef\u001b[39;00m \u001b[39mencode_image\u001b[39m(\u001b[39mself\u001b[39m, image):\n\u001b[0;32m--> <a href='file:///opt/homebrew/Caskroom/miniforge/base/envs/graphled/lib/python3.9/site-packages/clip/model.py?line=336'>337</a>\u001b[0m     \u001b[39mreturn\u001b[39;00m \u001b[39mself\u001b[39;49m\u001b[39m.\u001b[39;49mvisual(image\u001b[39m.\u001b[39;49mtype(\u001b[39mself\u001b[39;49m\u001b[39m.\u001b[39;49mdtype))\n",
      "File \u001b[0;32m/opt/homebrew/Caskroom/miniforge/base/envs/graphled/lib/python3.9/site-packages/torch/nn/modules/module.py:1102\u001b[0m, in \u001b[0;36mModule._call_impl\u001b[0;34m(self, *input, **kwargs)\u001b[0m\n\u001b[1;32m   <a href='file:///opt/homebrew/Caskroom/miniforge/base/envs/graphled/lib/python3.9/site-packages/torch/nn/modules/module.py?line=1097'>1098</a>\u001b[0m \u001b[39m# If we don't have any hooks, we want to skip the rest of the logic in\u001b[39;00m\n\u001b[1;32m   <a href='file:///opt/homebrew/Caskroom/miniforge/base/envs/graphled/lib/python3.9/site-packages/torch/nn/modules/module.py?line=1098'>1099</a>\u001b[0m \u001b[39m# this function, and just call forward.\u001b[39;00m\n\u001b[1;32m   <a href='file:///opt/homebrew/Caskroom/miniforge/base/envs/graphled/lib/python3.9/site-packages/torch/nn/modules/module.py?line=1099'>1100</a>\u001b[0m \u001b[39mif\u001b[39;00m \u001b[39mnot\u001b[39;00m (\u001b[39mself\u001b[39m\u001b[39m.\u001b[39m_backward_hooks \u001b[39mor\u001b[39;00m \u001b[39mself\u001b[39m\u001b[39m.\u001b[39m_forward_hooks \u001b[39mor\u001b[39;00m \u001b[39mself\u001b[39m\u001b[39m.\u001b[39m_forward_pre_hooks \u001b[39mor\u001b[39;00m _global_backward_hooks\n\u001b[1;32m   <a href='file:///opt/homebrew/Caskroom/miniforge/base/envs/graphled/lib/python3.9/site-packages/torch/nn/modules/module.py?line=1100'>1101</a>\u001b[0m         \u001b[39mor\u001b[39;00m _global_forward_hooks \u001b[39mor\u001b[39;00m _global_forward_pre_hooks):\n\u001b[0;32m-> <a href='file:///opt/homebrew/Caskroom/miniforge/base/envs/graphled/lib/python3.9/site-packages/torch/nn/modules/module.py?line=1101'>1102</a>\u001b[0m     \u001b[39mreturn\u001b[39;00m forward_call(\u001b[39m*\u001b[39;49m\u001b[39minput\u001b[39;49m, \u001b[39m*\u001b[39;49m\u001b[39m*\u001b[39;49mkwargs)\n\u001b[1;32m   <a href='file:///opt/homebrew/Caskroom/miniforge/base/envs/graphled/lib/python3.9/site-packages/torch/nn/modules/module.py?line=1102'>1103</a>\u001b[0m \u001b[39m# Do not call functions when jit is used\u001b[39;00m\n\u001b[1;32m   <a href='file:///opt/homebrew/Caskroom/miniforge/base/envs/graphled/lib/python3.9/site-packages/torch/nn/modules/module.py?line=1103'>1104</a>\u001b[0m full_backward_hooks, non_full_backward_hooks \u001b[39m=\u001b[39m [], []\n",
      "File \u001b[0;32m/opt/homebrew/Caskroom/miniforge/base/envs/graphled/lib/python3.9/site-packages/clip/model.py:148\u001b[0m, in \u001b[0;36mModifiedResNet.forward\u001b[0;34m(self, x)\u001b[0m\n\u001b[1;32m    <a href='file:///opt/homebrew/Caskroom/miniforge/base/envs/graphled/lib/python3.9/site-packages/clip/model.py?line=145'>146</a>\u001b[0m x \u001b[39m=\u001b[39m \u001b[39mself\u001b[39m\u001b[39m.\u001b[39mlayer3(x)\n\u001b[1;32m    <a href='file:///opt/homebrew/Caskroom/miniforge/base/envs/graphled/lib/python3.9/site-packages/clip/model.py?line=146'>147</a>\u001b[0m x \u001b[39m=\u001b[39m \u001b[39mself\u001b[39m\u001b[39m.\u001b[39mlayer4(x)\n\u001b[0;32m--> <a href='file:///opt/homebrew/Caskroom/miniforge/base/envs/graphled/lib/python3.9/site-packages/clip/model.py?line=147'>148</a>\u001b[0m x \u001b[39m=\u001b[39m \u001b[39mself\u001b[39;49m\u001b[39m.\u001b[39;49mattnpool(x)\n\u001b[1;32m    <a href='file:///opt/homebrew/Caskroom/miniforge/base/envs/graphled/lib/python3.9/site-packages/clip/model.py?line=149'>150</a>\u001b[0m \u001b[39mreturn\u001b[39;00m x\n",
      "File \u001b[0;32m/opt/homebrew/Caskroom/miniforge/base/envs/graphled/lib/python3.9/site-packages/torch/nn/modules/module.py:1102\u001b[0m, in \u001b[0;36mModule._call_impl\u001b[0;34m(self, *input, **kwargs)\u001b[0m\n\u001b[1;32m   <a href='file:///opt/homebrew/Caskroom/miniforge/base/envs/graphled/lib/python3.9/site-packages/torch/nn/modules/module.py?line=1097'>1098</a>\u001b[0m \u001b[39m# If we don't have any hooks, we want to skip the rest of the logic in\u001b[39;00m\n\u001b[1;32m   <a href='file:///opt/homebrew/Caskroom/miniforge/base/envs/graphled/lib/python3.9/site-packages/torch/nn/modules/module.py?line=1098'>1099</a>\u001b[0m \u001b[39m# this function, and just call forward.\u001b[39;00m\n\u001b[1;32m   <a href='file:///opt/homebrew/Caskroom/miniforge/base/envs/graphled/lib/python3.9/site-packages/torch/nn/modules/module.py?line=1099'>1100</a>\u001b[0m \u001b[39mif\u001b[39;00m \u001b[39mnot\u001b[39;00m (\u001b[39mself\u001b[39m\u001b[39m.\u001b[39m_backward_hooks \u001b[39mor\u001b[39;00m \u001b[39mself\u001b[39m\u001b[39m.\u001b[39m_forward_hooks \u001b[39mor\u001b[39;00m \u001b[39mself\u001b[39m\u001b[39m.\u001b[39m_forward_pre_hooks \u001b[39mor\u001b[39;00m _global_backward_hooks\n\u001b[1;32m   <a href='file:///opt/homebrew/Caskroom/miniforge/base/envs/graphled/lib/python3.9/site-packages/torch/nn/modules/module.py?line=1100'>1101</a>\u001b[0m         \u001b[39mor\u001b[39;00m _global_forward_hooks \u001b[39mor\u001b[39;00m _global_forward_pre_hooks):\n\u001b[0;32m-> <a href='file:///opt/homebrew/Caskroom/miniforge/base/envs/graphled/lib/python3.9/site-packages/torch/nn/modules/module.py?line=1101'>1102</a>\u001b[0m     \u001b[39mreturn\u001b[39;00m forward_call(\u001b[39m*\u001b[39;49m\u001b[39minput\u001b[39;49m, \u001b[39m*\u001b[39;49m\u001b[39m*\u001b[39;49mkwargs)\n\u001b[1;32m   <a href='file:///opt/homebrew/Caskroom/miniforge/base/envs/graphled/lib/python3.9/site-packages/torch/nn/modules/module.py?line=1102'>1103</a>\u001b[0m \u001b[39m# Do not call functions when jit is used\u001b[39;00m\n\u001b[1;32m   <a href='file:///opt/homebrew/Caskroom/miniforge/base/envs/graphled/lib/python3.9/site-packages/torch/nn/modules/module.py?line=1103'>1104</a>\u001b[0m full_backward_hooks, non_full_backward_hooks \u001b[39m=\u001b[39m [], []\n",
      "File \u001b[0;32m/opt/homebrew/Caskroom/miniforge/base/envs/graphled/lib/python3.9/site-packages/clip/model.py:69\u001b[0m, in \u001b[0;36mAttentionPool2d.forward\u001b[0;34m(self, x)\u001b[0m\n\u001b[1;32m     <a href='file:///opt/homebrew/Caskroom/miniforge/base/envs/graphled/lib/python3.9/site-packages/clip/model.py?line=66'>67</a>\u001b[0m x \u001b[39m=\u001b[39m x\u001b[39m.\u001b[39mreshape(x\u001b[39m.\u001b[39mshape[\u001b[39m0\u001b[39m], x\u001b[39m.\u001b[39mshape[\u001b[39m1\u001b[39m], x\u001b[39m.\u001b[39mshape[\u001b[39m2\u001b[39m] \u001b[39m*\u001b[39m x\u001b[39m.\u001b[39mshape[\u001b[39m3\u001b[39m])\u001b[39m.\u001b[39mpermute(\u001b[39m2\u001b[39m, \u001b[39m0\u001b[39m, \u001b[39m1\u001b[39m)  \u001b[39m# NCHW -> (HW)NC\u001b[39;00m\n\u001b[1;32m     <a href='file:///opt/homebrew/Caskroom/miniforge/base/envs/graphled/lib/python3.9/site-packages/clip/model.py?line=67'>68</a>\u001b[0m x \u001b[39m=\u001b[39m torch\u001b[39m.\u001b[39mcat([x\u001b[39m.\u001b[39mmean(dim\u001b[39m=\u001b[39m\u001b[39m0\u001b[39m, keepdim\u001b[39m=\u001b[39m\u001b[39mTrue\u001b[39;00m), x], dim\u001b[39m=\u001b[39m\u001b[39m0\u001b[39m)  \u001b[39m# (HW+1)NC\u001b[39;00m\n\u001b[0;32m---> <a href='file:///opt/homebrew/Caskroom/miniforge/base/envs/graphled/lib/python3.9/site-packages/clip/model.py?line=68'>69</a>\u001b[0m x \u001b[39m=\u001b[39m x \u001b[39m+\u001b[39;49m \u001b[39mself\u001b[39;49m\u001b[39m.\u001b[39;49mpositional_embedding[:, \u001b[39mNone\u001b[39;49;00m, :]\u001b[39m.\u001b[39;49mto(x\u001b[39m.\u001b[39;49mdtype)  \u001b[39m# (HW+1)NC\u001b[39;00m\n\u001b[1;32m     <a href='file:///opt/homebrew/Caskroom/miniforge/base/envs/graphled/lib/python3.9/site-packages/clip/model.py?line=69'>70</a>\u001b[0m x, _ \u001b[39m=\u001b[39m F\u001b[39m.\u001b[39mmulti_head_attention_forward(\n\u001b[1;32m     <a href='file:///opt/homebrew/Caskroom/miniforge/base/envs/graphled/lib/python3.9/site-packages/clip/model.py?line=70'>71</a>\u001b[0m     query\u001b[39m=\u001b[39mx, key\u001b[39m=\u001b[39mx, value\u001b[39m=\u001b[39mx,\n\u001b[1;32m     <a href='file:///opt/homebrew/Caskroom/miniforge/base/envs/graphled/lib/python3.9/site-packages/clip/model.py?line=71'>72</a>\u001b[0m     embed_dim_to_check\u001b[39m=\u001b[39mx\u001b[39m.\u001b[39mshape[\u001b[39m-\u001b[39m\u001b[39m1\u001b[39m],\n\u001b[0;32m   (...)\u001b[0m\n\u001b[1;32m     <a href='file:///opt/homebrew/Caskroom/miniforge/base/envs/graphled/lib/python3.9/site-packages/clip/model.py?line=86'>87</a>\u001b[0m     need_weights\u001b[39m=\u001b[39m\u001b[39mFalse\u001b[39;00m\n\u001b[1;32m     <a href='file:///opt/homebrew/Caskroom/miniforge/base/envs/graphled/lib/python3.9/site-packages/clip/model.py?line=87'>88</a>\u001b[0m )\n\u001b[1;32m     <a href='file:///opt/homebrew/Caskroom/miniforge/base/envs/graphled/lib/python3.9/site-packages/clip/model.py?line=89'>90</a>\u001b[0m \u001b[39mreturn\u001b[39;00m x[\u001b[39m0\u001b[39m]\n",
      "\u001b[0;31mRuntimeError\u001b[0m: The size of tensor a (778) must match the size of tensor b (50) at non-singleton dimension 0"
     ]
    }
   ],
   "source": [
    "for d in train_loader:\n",
    "    out = cli(d['maps'], d['dialogs'])\n",
    "    break"
   ]
  },
  {
   "cell_type": "code",
   "execution_count": null,
   "metadata": {},
   "outputs": [],
   "source": []
  },
  {
   "cell_type": "code",
   "execution_count": null,
   "metadata": {},
   "outputs": [],
   "source": [
    "def train(train_loader, model, criterion, optimizer, scheduler, device, config):\n",
    "    # Training \n",
    "    for idx, data in enumerate(tqdm(train_loader)):\n",
    "        \n",
    "        model.train()\n",
    "        maps = data['maps'].to(device)\n",
    "        conversations = data['dialogs']\n",
    "        targets = data['targets']\n",
    "\n",
    "        optimizer.zero_grad()\n",
    "        preds = model(maps, conversations) \n",
    "        loss = criterion(preds, targets)\n",
    "        loss.backward()\n",
    "        optimizer.step()\n",
    "\n",
    "def validate(valid_loader, model, criterion, device, config):\n",
    "    # Validation \n",
    "    with torch.no_grad():\n",
    "        for idx, data in enumerate(tqdm(valid_loader)):\n",
    "            model.eval()\n",
    "            maps = data['maps'].to(device)\n",
    "            conversations = data['dialogs']\n",
    "            targets = data['targets']\n",
    "\n",
    "            preds = model(maps, conversations) \n",
    "            loss = criterion(preds, targets)"
   ]
  },
  {
   "cell_type": "code",
   "execution_count": 51,
   "metadata": {},
   "outputs": [],
   "source": [
    "loc = CLIPLocator(config)"
   ]
  },
  {
   "cell_type": "code",
   "execution_count": 52,
   "metadata": {},
   "outputs": [],
   "source": [
    "def main():\n",
    "\n",
    "    # Load Data \n",
    "\n",
    "\n",
    "    # Define model, loss and optimizer \n",
    "    criterion = nn.MSELoss()\n",
    "    optimizer = torch.optim.Adam(loc.parameters())\n",
    "    scheduler = torch.optim.ReduceLROnPlateau(optimizer, 'min')\n",
    "\n",
    "    # Run train and validation loop \n",
    "\n",
    "\n",
    "    # Run Test \n",
    "\n",
    "\n",
    "    # Save results "
   ]
  }
 ],
 "metadata": {
  "interpreter": {
   "hash": "1915fb457f177848a436c53e0d85f261306c0429b7a27e35e26917a207fd56ca"
  },
  "kernelspec": {
   "display_name": "Python 3.9.7 ('graphled')",
   "language": "python",
   "name": "python3"
  },
  "language_info": {
   "codemirror_mode": {
    "name": "ipython",
    "version": 3
   },
   "file_extension": ".py",
   "mimetype": "text/x-python",
   "name": "python",
   "nbconvert_exporter": "python",
   "pygments_lexer": "ipython3",
   "version": "3.9.7"
  },
  "orig_nbformat": 4
 },
 "nbformat": 4,
 "nbformat_minor": 2
}
